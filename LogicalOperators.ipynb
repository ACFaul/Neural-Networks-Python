{
 "cells": [
  {
   "cell_type": "markdown",
   "metadata": {},
   "source": [
    "# Can neural networks learn logical operators?\n",
    "\n",
    "The simple answer is, yes, they can. Since all computing comes down to a combination of locigal operators, neural networks can emulate all computing. The efficiency is about the same as of those monkeys writing Shakespeare. The design of deep learning guides the process.\n",
    "\n",
    "## Import modules"
   ]
  },
  {
   "cell_type": "code",
   "execution_count": 1,
   "metadata": {},
   "outputs": [],
   "source": [
    "import numpy as np\n",
    "import pandas\n",
    "import matplotlib.pyplot as plt"
   ]
  },
  {
   "cell_type": "markdown",
   "metadata": {},
   "source": [
    "## Define logical operators"
   ]
  },
  {
   "cell_type": "code",
   "execution_count": 2,
   "metadata": {},
   "outputs": [],
   "source": [
    "def OR(v1,v2):\n",
    "    if not (v1.all() in (0,1) and v2.all() in (0,1)):\n",
    "        raise ValueError(\"Input 0 or 1\")\n",
    "    return v1 | v2\n",
    "def AND(v1,v2):\n",
    "    if not (v1.all() in (0,1) and v2.all() in (0,1)):\n",
    "        raise ValueError(\"Input 0 or 1\")\n",
    "    return v1 & v2\n",
    "def NAND(v1,v2):\n",
    "    if not (v1.all() in (0,1) and v2.all() in (0,1)):\n",
    "        raise ValueError(\"Input 0 or 1\")\n",
    "    return ~(v1 & v2)+2\n",
    "def XOR(v1,v2):\n",
    "    if not (v1.all() in (0,1) and v2.all() in (0,1)):\n",
    "        raise ValueError(\"Input 0 or 1\")\n",
    "    return AND(OR(v1,v2),NAND(v1,v2)) "
   ]
  },
  {
   "cell_type": "markdown",
   "metadata": {},
   "source": [
    "### Display as dataframe\n",
    "Each row is a sample, each column a feature."
   ]
  },
  {
   "cell_type": "code",
   "execution_count": 3,
   "metadata": {},
   "outputs": [
    {
     "name": "stdout",
     "output_type": "stream",
     "text": [
      "  v1  v2  OR  AND  NAND  XOR\n",
      "   0   0   0    0     1    0\n",
      "   0   1   1    0     1    1\n",
      "   1   0   1    0     1    1\n",
      "   1   1   1    1     0    0\n"
     ]
    }
   ],
   "source": [
    "v1 = np.array([0,0,1,1]).astype(np.uint8).reshape(-1,1)\n",
    "v2 = np.array([0,1,0,1]).astype(np.uint8).reshape(-1,1)\n",
    "data = np.hstack((v1, v2, OR(v1,v2), AND(v1,v2), NAND(v1,v2), XOR(v1,v2)))\n",
    "df = pandas.DataFrame(data)\n",
    "df.columns = ['v1', 'v2', 'OR', 'AND', 'NAND', 'XOR']\n",
    "df.index = ['' ,'', '', '']\n",
    "print(df)"
   ]
  },
  {
   "cell_type": "markdown",
   "metadata": {},
   "source": [
    "## Activation function\n",
    "### Logistic sigmoid\n",
    "The logistic sigmoid function is defined as\n",
    "\\begin{equation}\n",
    "y = h(x) = \\frac{1}{1+\\exp(-x)} = \\frac{\\exp(x)}{\\exp(x) +1}\n",
    "\\end{equation}\n",
    "The derivative is\n",
    "\\begin{equation}\n",
    "h'(x) = \\frac{\\exp(x)}{(\\exp(x) +1)^2} = h(x) (1 - h(x)) = y(1-y)\n",
    "\\end{equation}\n",
    "This will be used as activation function. The interpretation is that the neuron fires for positive values, but does not react for negative values. Around zero is a transition zone between the two states. The size of the transition zone can be changed by multiplying $x$ by a positive number. The larger this number the faster the transition. "
   ]
  },
  {
   "cell_type": "code",
   "execution_count": 4,
   "metadata": {},
   "outputs": [],
   "source": [
    "def sigmoid(x):\n",
    "    return 1 / (1 + np.exp(-x))\n",
    "def sigmoid_derivative(y):\n",
    "    return y * (1 - y)"
   ]
  },
  {
   "cell_type": "code",
   "execution_count": 5,
   "metadata": {},
   "outputs": [
    {
     "data": {
      "image/png": "[encoded data removed]",
      "text/plain": [
       "<Figure size 432x288 with 1 Axes>"
      ]
     },
     "metadata": {
      "needs_background": "light"
     },
     "output_type": "display_data"
    }
   ],
   "source": [
    "x = np.linspace(-4,4,100)\n",
    "y = sigmoid(x)\n",
    "fig = plt.figure()\n",
    "plt.plot(x,y)\n",
    "plt.grid(True)\n",
    "plt.show()"
   ]
  },
  {
   "cell_type": "markdown",
   "metadata": {},
   "source": [
    "## Simple Neural Network class\n",
    "We illustrate this with a simple two layer neural network with two input neurons and one output neuron and two neurons in the set of hidden neurons. The bias is incorporated in dummy neurons which always have the value 1.\n",
    "\n",
    "### Forward propagation\n",
    "![alt text](Forward.png \"Forward propagation\")\n",
    "\n",
    "The activations of the hidden neurons are calculated as\n",
    "\\begin{equation}\n",
    "\\left( \\begin{array}{c} a_1 \\\\ a_2 \\end{array} \\right) = \\left( \\begin{array}{ccc} w_{11} & w_{12} & w_{13} \\\\ w_{21} & w_{22} & w_{23} \\end{array} \\right) \\left( \\begin{array}{c} x_1 \\\\ x_2 \\\\ 1 \\end{array} \\right).\n",
    "\\end{equation}\n",
    "The latent variables in the hidden neurons are then\n",
    "\\begin{equation}\n",
    "\\left( \\begin{array}{c} z_1 \\\\ z_2 \\end{array} \\right) = \\left( \\begin{array}{c} h(a_1) \\\\ h(a_2) \\end{array} \\right)\n",
    "\\end{equation}\n",
    "The activation of the output neuron is\n",
    "\\begin{equation}\n",
    "a = \\left( \\begin{array}{ccc} w_1 & w_2 & w_3 \\end{array} \\right) \\left( \\begin{array}{c} z_1 \\\\ z_2 \\\\ 1 \\end{array} \\right)\n",
    "\\end{equation}\n",
    "and the output is calculated as $y = h(a)$.\n",
    "\n",
    "### Training\n",
    "The prediction error is $\\delta = y-t$, where $t$ is the target. Training consists of minimizing a cost function $E$ which is calculated across all training data. Algorithmically, this minimization becomes the same for standard tasks (classification and regression) when the standard cost functions are used. (Note: care has to be taken when cost functions are modified). The negative gradient (derivative with respect to all weights) at a point on the cost function points in the direction of steepest descent. The minimization is performed by taking a step in this direction and adjusting the weights by this step. The step size is given by the learning rate $\\eta$, too small and the convergence is slow, too large and we might overshoot the minimum.\n",
    "\n",
    "### Backward error propagation\n",
    "![alt text](Backward.png \"Backward error propagation\")\n",
    "\n",
    "The error is $\\delta$ gets propagated back to the hidden neurons by\n",
    "\\begin{equation}\n",
    "\\left( \\begin{array}{c} \\delta_1 \\\\ \\delta_2 \\end{array} \\right) = \\delta \\left( \\begin{array}{c} h'(a_1) w_1 \\\\ h'(a_2) w_2 \\end{array} \\right).\n",
    "\\end{equation}\n",
    "\n",
    "The derivatives of $E$ with respect to the weights are\n",
    "\\begin{equation}\n",
    "\\left( \\begin{array}{ccc} \\frac{\\partial}{\\partial w_1} & \\frac{\\partial}{\\partial w_2} & \\frac{\\partial}{\\partial w_3} \\end{array} \\right) E = \\delta \\left( \\begin{array}{ccc} z_1 & z_2 & 1 \\end{array} \\right)\n",
    "\\end{equation}\n",
    "and \n",
    "\\begin{equation}\n",
    "\\left(\\begin{array}{ccc} \\frac{\\partial}{\\partial w_{11}} & \\frac{\\partial}{\\partial w_{12}} & \\frac{\\partial}{\\partial w_{13}} \\\\ \\frac{\\partial}{\\partial w_{21}} & \\frac{\\partial}{\\partial w_{22}} & \\frac{\\partial}{\\partial w_{23}} \\end{array} \\right) E = \\left( \\begin{array}{c} \\delta_1 \\\\ \\delta_2 \\end{array} \\right) \\left( \\begin{array}{ccc} x_1 & x_2 & 1 \\end{array} \\right).\n",
    "\\end{equation}\n",
    "\n",
    "After seeing one training sample, the weights are updated by\n",
    "\\begin{equation}\n",
    "\\left( \\begin{array}{ccc} w_1 & w_2 & w_3 \\end{array} \\right) = \\left( \\begin{array}{ccc} w_1 & w_2 & w_3 \\end{array} \\right) -  \\eta \\delta \\left( \\begin{array}{ccc} z_1 & z_2 & 1 \\end{array} \\right)\n",
    "\\end{equation}\n",
    "and\n",
    "\\begin{equation}\n",
    "\\left( \\begin{array}{ccc} w_{11} & w_{12} & w_{13} \\\\ w_{21} & w_{22} & w_{23} \\end{array} \\right) = \\left( \\begin{array}{ccc} w_{11} & w_{12} & w_{13} \\\\ w_{21} & w_{22} & w_{23} \\end{array} \\right) -  \\eta \\left( \\begin{array}{c} \\delta_1 \\\\ \\delta_2 \\end{array} \\right) \\left( \\begin{array}{ccc} x_1 & x_2 & 1 \\end{array} \\right).\n",
    "\\end{equation}\n",
    "\n",
    "Using one training sample at a time, is known as *online* or *sequential* learning. Updating in one step using several training samples is known as *batch* or *mini-batch* methods."
   ]
  },
  {
   "cell_type": "code",
   "execution_count": 6,
   "metadata": {},
   "outputs": [],
   "source": [
    "class NeuralNetwork:\n",
    "    \n",
    "    def __init__(self,\n",
    "                 nin,     # number of input neurons\n",
    "                 nout,    # number of output neurons\n",
    "                 nhidden, # number of hidden neurons\n",
    "                 tol,     #tolerance\n",
    "                 nepoch,  # number of epochs\n",
    "                 rate):   # learning rate\n",
    "        self.nin = nin\n",
    "        self.nout = nout\n",
    "        self.nhidden = nhidden\n",
    "        self.tol = tol\n",
    "        self.nepoch = nepoch\n",
    "        self.rate = rate \n",
    "        self.init_weights()\n",
    "        \n",
    "    def init_weights(self):  # He et al.(2015) initialization\n",
    "        # + 1 is the bias neuron\n",
    "        self.weights_in = np.random.randn(self.nhidden, self.nin+1) * np.sqrt(2/self.nin)\n",
    "        self.weights_out = np.random.randn(self.nout, self.nhidden+1) * np.sqrt(2/self.nhidden)\n",
    "        \n",
    "    def predict(self, X): # X row vectors\n",
    "        # Append bias and multiply with weights.\n",
    "        Y = self.weights_in @ np.append(X.T,np.ones((1,X.shape[0])), axis = 0)\n",
    "        # Apply activation function.\n",
    "        Y = sigmoid(Y)\n",
    "        # Append bias and multiply with weights.\n",
    "        Y = self.weights_out @ np.append(Y,np.ones((1,Y.shape[1])), axis =0)\n",
    "        # Apply activation function.\n",
    "        Y = sigmoid(Y)\n",
    "        return Y.T\n",
    "    \n",
    "    def train(self, X, target):\n",
    "        # Permute the training data.\n",
    "        perm = np.random.permutation(X.shape[0])\n",
    "        # Append bias, multiply with weights and apply activation function.\n",
    "        Z = sigmoid(self.weights_in @ np.append(X[perm,:].T,np.ones((1,X.shape[0])), axis = 0))\n",
    "        Y = sigmoid(self.weights_out @ np.append(Z,np.ones((1,Z.shape[1])), axis =0))\n",
    "        # Errors for all training samples.\n",
    "        Y_errors = Y - target[perm].T\n",
    "        cost = 0.5 * np.sum(Y_errors**2)\n",
    "        epoch = 0\n",
    "        while cost > self.tol and epoch < self.nepoch:\n",
    "            epoch = epoch+1\n",
    "            # Propagate errors. \n",
    "            # Note first multiplication componentwise, second matrix multiplication.\n",
    "            # Using special property of sigmoid derivative.\n",
    "            Z_errors = sigmoid_derivative(Z) * (self.weights_out[:,:-1].T @ Y_errors)\n",
    "            # Update weights in second layer.\n",
    "            self.weights_out = self.weights_out - self.rate * Y_errors @ np.append(Z,np.ones((1,Z.shape[1])), axis =0).T\n",
    "            # Update weights in first layer.\n",
    "            self.weights_in = self.weights_in - self.rate * Z_errors @ np.append(X[perm,:],np.ones((X.shape[0],1)), axis = 1)\n",
    "            # Permute the training data.\n",
    "            perm = np.random.permutation(X.shape[0])\n",
    "            # Append bias, multiply with weights and apply activation function.\n",
    "            Z = sigmoid(self.weights_in @ np.append(X[perm,:].T,np.ones((1,X.shape[0])), axis = 0))\n",
    "            Y = sigmoid(self.weights_out @ np.append(Z,np.ones((1,Z.shape[1])), axis =0))\n",
    "            # Errors for all training samples.\n",
    "            Y_errors = Y - target[perm].T\n",
    "            cost = 0.5 * np.sum(Y_errors**2)\n",
    "        return epoch"
   ]
  },
  {
   "cell_type": "markdown",
   "metadata": {},
   "source": [
    "## Learning logical operators\n",
    "Choose one of the last four columns as target. A lot more epochs are necessary, to learn XOR. This is because, it is a combination of other logical operators. The other logical operators can actually be learned by an even simpler neural network consisting of only one layer, two input and one output neurons and **no** hidden neurons (left as exercise), because they only need to separate one region from another. XOR needs two layers, because it needs to separate three regions."
   ]
  },
  {
   "cell_type": "code",
   "execution_count": 8,
   "metadata": {},
   "outputs": [
    {
     "name": "stdout",
     "output_type": "stream",
     "text": [
      "Output before training:\n",
      "[[0.55974865]\n",
      " [0.54119159]\n",
      " [0.52095599]\n",
      " [0.51093086]]\n",
      "Epochs until convergence: 98\n",
      "Output after training rounded to the nearest integer:\n",
      "[[0]\n",
      " [1]\n",
      " [1]\n",
      " [0]]\n"
     ]
    }
   ],
   "source": [
    "X = data[:,0:2]\n",
    "target = data[:,-1]\n",
    "NN = NeuralNetwork(nin=2, nout=1, nhidden=2, tol = 0.1, nepoch=100, rate=1)\n",
    "print('Output before training:')\n",
    "print(NN.predict(X))\n",
    "print('Epochs until convergence:', NN.train(X,target))\n",
    "print('Output after training rounded to the nearest integer:')\n",
    "print(np.round(NN.predict(X)).astype(np.uint8))"
   ]
  },
  {
   "cell_type": "code",
   "execution_count": null,
   "metadata": {},
   "outputs": [],
   "source": []
  }
 ],
 "metadata": {
  "kernelspec": {
   "display_name": "Python 3",
   "language": "python",
   "name": "python3"
  },
  "language_info": {
   "codemirror_mode": {
    "name": "ipython",
    "version": 3
   },
   "file_extension": ".py",
   "mimetype": "text/x-python",
   "name": "python",
   "nbconvert_exporter": "python",
   "pygments_lexer": "ipython3",
   "version": "3.7.5"
  }
 },
 "nbformat": 4,
 "nbformat_minor": 2
}
